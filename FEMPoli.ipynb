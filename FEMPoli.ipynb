{
  "nbformat": 4,
  "nbformat_minor": 0,
  "metadata": {
    "colab": {
      "provenance": [],
      "mount_file_id": "1a4nKvQWlhGGbJoP0-8YuRHC_7EhDGxMx",
      "authorship_tag": "ABX9TyO77tF6i55DhyAVDZ0BOWbd"
    },
    "kernelspec": {
      "name": "python3",
      "display_name": "Python 3"
    },
    "language_info": {
      "name": "python"
    }
  },
  "cells": [
    {
      "cell_type": "markdown",
      "source": [
        "File created by Prof. Wagner Nahas\n",
        "\n",
        "Date: 01/05/2024\n",
        "\n",
        "email: wagnernahas@poli.ufrj.br\n"
      ],
      "metadata": {
        "id": "sA6rMQtVs11v"
      }
    },
    {
      "cell_type": "code",
      "source": [
        "!cp \"/content/drive/MyDrive/Colab Notebooks/preprocess.py\" /content\n",
        "!cp \"/content/drive/MyDrive/Colab Notebooks/process.py\" /content\n",
        "!cp \"/content/drive/MyDrive/Colab Notebooks/posprocess.py\" /content\n",
        "!cp \"/content/drive/MyDrive/Colab Notebooks/geofem.txt\" /content\n",
        "\n",
        "import preprocess #, process, posprocess\n",
        "\n",
        "ndim, nod, nodes, conn, boundary = preprocess.main(\"/content/drive/MyDrive/Colab Notebooks/geofem.txt\")\n",
        "\n",
        "print(ndim, nod)\n",
        "\n",
        "#process.main(model)\n",
        "\n",
        "#posprocess.main(model)\n"
      ],
      "metadata": {
        "colab": {
          "base_uri": "https://localhost:8080/"
        },
        "id": "PmczfAZCs4oo",
        "outputId": "10c20a36-73a1-488c-d330-ee8353c31110"
      },
      "execution_count": 1,
      "outputs": [
        {
          "output_type": "stream",
          "name": "stdout",
          "text": [
            "Input file: /content/drive/MyDrive/Colab Notebooks/geofem.txt\n",
            "\n",
            "** Read input file\n",
            "2 4\n"
          ]
        }
      ]
    }
  ]
}